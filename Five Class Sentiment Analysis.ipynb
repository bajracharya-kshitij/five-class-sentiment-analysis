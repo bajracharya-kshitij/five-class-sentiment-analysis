{
 "cells": [
  {
   "cell_type": "markdown",
   "metadata": {},
   "source": [
    "# <center>A Report on Sentiment Analysis</center>"
   ]
  },
  {
   "cell_type": "markdown",
   "metadata": {},
   "source": [
    "## 1. Data Exploration"
   ]
  },
  {
   "cell_type": "code",
   "execution_count": 1,
   "metadata": {},
   "outputs": [],
   "source": [
    "import pandas as pd"
   ]
  },
  {
   "cell_type": "code",
   "execution_count": 2,
   "metadata": {},
   "outputs": [],
   "source": [
    "train_df = pd.read_csv('data/sentiment_5_class_train.csv')\n",
    "test_df = pd.read_csv('data/sentiment_5_class_test.csv')"
   ]
  },
  {
   "cell_type": "code",
   "execution_count": 3,
   "metadata": {},
   "outputs": [
    {
     "data": {
      "text/html": [
       "<div>\n",
       "<style scoped>\n",
       "    .dataframe tbody tr th:only-of-type {\n",
       "        vertical-align: middle;\n",
       "    }\n",
       "\n",
       "    .dataframe tbody tr th {\n",
       "        vertical-align: top;\n",
       "    }\n",
       "\n",
       "    .dataframe thead th {\n",
       "        text-align: right;\n",
       "    }\n",
       "</style>\n",
       "<table border=\"1\" class=\"dataframe\">\n",
       "  <thead>\n",
       "    <tr style=\"text-align: right;\">\n",
       "      <th></th>\n",
       "      <th>Phrase</th>\n",
       "      <th>Sentiment</th>\n",
       "    </tr>\n",
       "  </thead>\n",
       "  <tbody>\n",
       "    <tr>\n",
       "      <th>0</th>\n",
       "      <td>the prisoner</td>\n",
       "      <td>2</td>\n",
       "    </tr>\n",
       "    <tr>\n",
       "      <th>1</th>\n",
       "      <td>The sheer joy and pride they took in their wor...</td>\n",
       "      <td>3</td>\n",
       "    </tr>\n",
       "    <tr>\n",
       "      <th>2</th>\n",
       "      <td>has never made a more sheerly beautiful film t...</td>\n",
       "      <td>3</td>\n",
       "    </tr>\n",
       "    <tr>\n",
       "      <th>3</th>\n",
       "      <td>the story has the sizzle of old news that has ...</td>\n",
       "      <td>3</td>\n",
       "    </tr>\n",
       "    <tr>\n",
       "      <th>4</th>\n",
       "      <td>far superior</td>\n",
       "      <td>4</td>\n",
       "    </tr>\n",
       "  </tbody>\n",
       "</table>\n",
       "</div>"
      ],
      "text/plain": [
       "                                              Phrase  Sentiment\n",
       "0                                       the prisoner          2\n",
       "1  The sheer joy and pride they took in their wor...          3\n",
       "2  has never made a more sheerly beautiful film t...          3\n",
       "3  the story has the sizzle of old news that has ...          3\n",
       "4                                       far superior          4"
      ]
     },
     "execution_count": 3,
     "metadata": {},
     "output_type": "execute_result"
    }
   ],
   "source": [
    "train_df.head()"
   ]
  },
  {
   "cell_type": "code",
   "execution_count": 4,
   "metadata": {},
   "outputs": [
    {
     "data": {
      "text/html": [
       "<div>\n",
       "<style scoped>\n",
       "    .dataframe tbody tr th:only-of-type {\n",
       "        vertical-align: middle;\n",
       "    }\n",
       "\n",
       "    .dataframe tbody tr th {\n",
       "        vertical-align: top;\n",
       "    }\n",
       "\n",
       "    .dataframe thead th {\n",
       "        text-align: right;\n",
       "    }\n",
       "</style>\n",
       "<table border=\"1\" class=\"dataframe\">\n",
       "  <thead>\n",
       "    <tr style=\"text-align: right;\">\n",
       "      <th></th>\n",
       "      <th>Phrase</th>\n",
       "      <th>Sentiment</th>\n",
       "    </tr>\n",
       "  </thead>\n",
       "  <tbody>\n",
       "    <tr>\n",
       "      <th>0</th>\n",
       "      <td>makes for a touching love story , mainly becau...</td>\n",
       "      <td>3</td>\n",
       "    </tr>\n",
       "    <tr>\n",
       "      <th>1</th>\n",
       "      <td>a truly magical movie</td>\n",
       "      <td>4</td>\n",
       "    </tr>\n",
       "    <tr>\n",
       "      <th>2</th>\n",
       "      <td>check</td>\n",
       "      <td>3</td>\n",
       "    </tr>\n",
       "    <tr>\n",
       "      <th>3</th>\n",
       "      <td>is a remarkably accessible and haunting film .</td>\n",
       "      <td>4</td>\n",
       "    </tr>\n",
       "    <tr>\n",
       "      <th>4</th>\n",
       "      <td>are too cute</td>\n",
       "      <td>3</td>\n",
       "    </tr>\n",
       "  </tbody>\n",
       "</table>\n",
       "</div>"
      ],
      "text/plain": [
       "                                              Phrase  Sentiment\n",
       "0  makes for a touching love story , mainly becau...          3\n",
       "1                              a truly magical movie          4\n",
       "2                                              check          3\n",
       "3     is a remarkably accessible and haunting film .          4\n",
       "4                                       are too cute          3"
      ]
     },
     "execution_count": 4,
     "metadata": {},
     "output_type": "execute_result"
    }
   ],
   "source": [
    "test_df.head()"
   ]
  },
  {
   "cell_type": "code",
   "execution_count": 5,
   "metadata": {},
   "outputs": [
    {
     "data": {
      "text/plain": [
       "(14711, 2)"
      ]
     },
     "execution_count": 5,
     "metadata": {},
     "output_type": "execute_result"
    }
   ],
   "source": [
    "train_df.shape"
   ]
  },
  {
   "cell_type": "code",
   "execution_count": 6,
   "metadata": {},
   "outputs": [
    {
     "data": {
      "text/plain": [
       "(3678, 2)"
      ]
     },
     "execution_count": 6,
     "metadata": {},
     "output_type": "execute_result"
    }
   ],
   "source": [
    "test_df.shape"
   ]
  },
  {
   "cell_type": "code",
   "execution_count": 7,
   "metadata": {},
   "outputs": [
    {
     "name": "stdout",
     "output_type": "stream",
     "text": [
      "<class 'pandas.core.frame.DataFrame'>\n",
      "RangeIndex: 14711 entries, 0 to 14710\n",
      "Data columns (total 2 columns):\n",
      "Phrase       14711 non-null object\n",
      "Sentiment    14711 non-null int64\n",
      "dtypes: int64(1), object(1)\n",
      "memory usage: 230.0+ KB\n"
     ]
    }
   ],
   "source": [
    "train_df.info()"
   ]
  },
  {
   "cell_type": "code",
   "execution_count": 8,
   "metadata": {},
   "outputs": [
    {
     "data": {
      "text/plain": [
       "array([2, 3, 4, 0, 1])"
      ]
     },
     "execution_count": 8,
     "metadata": {},
     "output_type": "execute_result"
    }
   ],
   "source": [
    "train_df['Sentiment'].unique()"
   ]
  },
  {
   "cell_type": "markdown",
   "metadata": {},
   "source": [
    "Our dataset contains a total of **14711 entries in the training set** and **3678 entries in the testing set**. The are only two columns - the feature is the phrase and the target is the value of sentiment ranging from 0 to 4, 0 being very bad and 4 being very good."
   ]
  },
  {
   "cell_type": "markdown",
   "metadata": {},
   "source": [
    "## 2. Visualization"
   ]
  },
  {
   "cell_type": "code",
   "execution_count": 9,
   "metadata": {},
   "outputs": [
    {
     "data": {
      "text/plain": [
       "3    7033\n",
       "4    3649\n",
       "2    1876\n",
       "1    1165\n",
       "0     988\n",
       "Name: Sentiment, dtype: int64"
      ]
     },
     "execution_count": 9,
     "metadata": {},
     "output_type": "execute_result"
    }
   ],
   "source": [
    "train_df['Sentiment'].value_counts()"
   ]
  },
  {
   "cell_type": "code",
   "execution_count": 10,
   "metadata": {},
   "outputs": [],
   "source": [
    "import matplotlib.pyplot as plt"
   ]
  },
  {
   "cell_type": "code",
   "execution_count": 11,
   "metadata": {},
   "outputs": [
    {
     "data": {
      "text/plain": [
       "Text(0.5, 1.0, 'Number of reviews in each sentiment')"
      ]
     },
     "execution_count": 11,
     "metadata": {},
     "output_type": "execute_result"
    },
    {
     "data": {
      "image/png": "[encoded data removed]",
      "text/plain": [
       "<Figure size 432x288 with 1 Axes>"
      ]
     },
     "metadata": {
      "needs_background": "light"
     },
     "output_type": "display_data"
    }
   ],
   "source": [
    "colors = ['red', 'tomato', 'yellow', 'greenyellow', 'green']\n",
    "n, bins, patches = plt.hist(train_df['Sentiment'], bins=5)\n",
    "\n",
    "for index, p in enumerate(patches):\n",
    "    plt.setp(p, 'facecolor', colors[index])\n",
    "    \n",
    "plt.xticks([0,1,2,3,4])\n",
    "plt.xlabel('Sentiments')\n",
    "plt.ylabel('No. of reviews')\n",
    "plt.title('Number of reviews in each sentiment')"
   ]
  },
  {
   "cell_type": "markdown",
   "metadata": {},
   "source": [
    "The dataset is dominated by instances from the positive sentiment."
   ]
  },
  {
   "cell_type": "markdown",
   "metadata": {},
   "source": [
    "## 3. Preprocessing"
   ]
  },
  {
   "cell_type": "markdown",
   "metadata": {},
   "source": [
    "### Based on length of review"
   ]
  },
  {
   "cell_type": "code",
   "execution_count": 12,
   "metadata": {},
   "outputs": [],
   "source": [
    "one_word_reviews = train_df[train_df['Phrase'].apply(lambda x: len(x.split())) == 1]\n",
    "two_word_reviews = train_df[train_df['Phrase'].apply(lambda x: len(x.split())) == 2]\n",
    "three_word_reviews = train_df[train_df['Phrase'].apply(lambda x: len(x.split())) == 3]\n",
    "four_word_reviews = train_df[train_df['Phrase'].apply(lambda x: len(x.split())) == 4]\n",
    "five_word_reviews = train_df[train_df['Phrase'].apply(lambda x: len(x.split())) == 5]\n",
    "multi_word_reviews = train_df[train_df['Phrase'].apply(lambda x: len(x.split())) > 5]"
   ]
  },
  {
   "cell_type": "code",
   "execution_count": 13,
   "metadata": {},
   "outputs": [
    {
     "data": {
      "text/plain": [
       "14710"
      ]
     },
     "execution_count": 13,
     "metadata": {},
     "output_type": "execute_result"
    }
   ],
   "source": [
    "len(one_word_reviews) + len(two_word_reviews) + len(three_word_reviews) + len(four_word_reviews) + len(five_word_reviews) + len(multi_word_reviews)"
   ]
  },
  {
   "cell_type": "markdown",
   "metadata": {},
   "source": [
    "Of the total 14711, one review doesn't fall under any of the class based on word length. So, the remaining review must be an empty review."
   ]
  },
  {
   "cell_type": "code",
   "execution_count": 14,
   "metadata": {},
   "outputs": [
    {
     "data": {
      "text/html": [
       "<div>\n",
       "<style scoped>\n",
       "    .dataframe tbody tr th:only-of-type {\n",
       "        vertical-align: middle;\n",
       "    }\n",
       "\n",
       "    .dataframe tbody tr th {\n",
       "        vertical-align: top;\n",
       "    }\n",
       "\n",
       "    .dataframe thead th {\n",
       "        text-align: right;\n",
       "    }\n",
       "</style>\n",
       "<table border=\"1\" class=\"dataframe\">\n",
       "  <thead>\n",
       "    <tr style=\"text-align: right;\">\n",
       "      <th></th>\n",
       "      <th>Phrase</th>\n",
       "      <th>Sentiment</th>\n",
       "    </tr>\n",
       "  </thead>\n",
       "  <tbody>\n",
       "    <tr>\n",
       "      <th>6189</th>\n",
       "      <td></td>\n",
       "      <td>1</td>\n",
       "    </tr>\n",
       "  </tbody>\n",
       "</table>\n",
       "</div>"
      ],
      "text/plain": [
       "     Phrase  Sentiment\n",
       "6189                 1"
      ]
     },
     "execution_count": 14,
     "metadata": {},
     "output_type": "execute_result"
    }
   ],
   "source": [
    "train_df[train_df['Phrase'].apply(lambda x: len(x.split())) == 0]"
   ]
  },
  {
   "cell_type": "markdown",
   "metadata": {},
   "source": [
    "### Drop empty review"
   ]
  },
  {
   "cell_type": "code",
   "execution_count": 15,
   "metadata": {},
   "outputs": [
    {
     "data": {
      "text/plain": [
       "Int64Index([6189], dtype='int64')"
      ]
     },
     "execution_count": 15,
     "metadata": {},
     "output_type": "execute_result"
    }
   ],
   "source": [
    "index = train_df[train_df['Phrase'].apply(lambda x: len(x.split())) == 0].index\n",
    "index"
   ]
  },
  {
   "cell_type": "code",
   "execution_count": 16,
   "metadata": {},
   "outputs": [],
   "source": [
    "train_df.drop(index, inplace=True)"
   ]
  },
  {
   "cell_type": "code",
   "execution_count": 17,
   "metadata": {},
   "outputs": [],
   "source": [
    "reviews_by_length = [one_word_reviews, two_word_reviews, three_word_reviews, four_word_reviews, five_word_reviews, \n",
    "                     multi_word_reviews]\n",
    "n = len(reviews_by_length)\n",
    "\n",
    "def count_by_length(sentiment):\n",
    "    return [len(x[x['Sentiment']==sentiment]) for x in reviews_by_length]\n",
    "\n",
    "counts_by_length = [count_by_length(0), count_by_length(1), count_by_length(2),\n",
    "                   count_by_length(3), count_by_length(4)]"
   ]
  },
  {
   "cell_type": "code",
   "execution_count": 18,
   "metadata": {},
   "outputs": [],
   "source": [
    "import numpy as np"
   ]
  },
  {
   "cell_type": "code",
   "execution_count": 19,
   "metadata": {},
   "outputs": [
    {
     "data": {
      "image/png": "[encoded data removed]",
      "text/plain": [
       "<Figure size 432x288 with 1 Axes>"
      ]
     },
     "metadata": {
      "needs_background": "light"
     },
     "output_type": "display_data"
    }
   ],
   "source": [
    "x_pos = np.arange(n)\n",
    "bar_width = 0.1\n",
    "labels = ['Very Bad', 'Bad', 'Neutral', 'Good', 'Very Good']\n",
    "\n",
    "for i in range(5):\n",
    "    plt.bar(x_pos + bar_width*i, counts_by_length[i], bar_width, color=colors[i], label=labels[i])\n",
    "\n",
    "plt.xlabel('Word length')\n",
    "plt.ylabel('No. of reviews')\n",
    "plt.title('Count of reviews by word length')\n",
    "plt.xticks(x_pos + bar_width, ['One', 'Two', 'Three', 'Four', 'Five', 'Multi'])\n",
    "\n",
    "plt.show()"
   ]
  },
  {
   "cell_type": "markdown",
   "metadata": {},
   "source": [
    "Neutral review are as common as good reviews for one word review. For everything else, it is dominated by Sentiment 3."
   ]
  },
  {
   "cell_type": "code",
   "execution_count": 20,
   "metadata": {},
   "outputs": [],
   "source": [
    "from pandas_profiling import ProfileReport"
   ]
  },
  {
   "cell_type": "code",
   "execution_count": 21,
   "metadata": {},
   "outputs": [
    {
     "data": {
      "application/vnd.jupyter.widget-view+json": {
       "model_id": "aa4d19f4b51a46de8a715f59e7c97354",
       "version_major": 2,
       "version_minor": 0
      },
      "text/plain": [
       "HBox(children=(FloatProgress(value=0.0, description='variables', max=3.0, style=ProgressStyle(description_widt…"
      ]
     },
     "metadata": {},
     "output_type": "display_data"
    },
    {
     "name": "stdout",
     "output_type": "stream",
     "text": [
      "\n"
     ]
    },
    {
     "data": {
      "application/vnd.jupyter.widget-view+json": {
       "model_id": "56470b447d1d4a2bb6272daf30dda653",
       "version_major": 2,
       "version_minor": 0
      },
      "text/plain": [
       "HBox(children=(FloatProgress(value=0.0, description='correlations', max=6.0, style=ProgressStyle(description_w…"
      ]
     },
     "metadata": {},
     "output_type": "display_data"
    },
    {
     "name": "stdout",
     "output_type": "stream",
     "text": [
      "\n"
     ]
    },
    {
     "data": {
      "application/vnd.jupyter.widget-view+json": {
       "model_id": "b3bb0a5b851448b6a9fdbd66b102b45a",
       "version_major": 2,
       "version_minor": 0
      },
      "text/plain": [
       "HBox(children=(FloatProgress(value=0.0, description='interactions [continuous]', max=4.0, style=ProgressStyle(…"
      ]
     },
     "metadata": {},
     "output_type": "display_data"
    },
    {
     "name": "stdout",
     "output_type": "stream",
     "text": [
      "\n"
     ]
    },
    {
     "data": {
      "application/vnd.jupyter.widget-view+json": {
       "model_id": "dcd3ae18755744dd8e2f98d0431d1d22",
       "version_major": 2,
       "version_minor": 0
      },
      "text/plain": [
       "HBox(children=(FloatProgress(value=0.0, description='table', max=1.0, style=ProgressStyle(description_width='i…"
      ]
     },
     "metadata": {},
     "output_type": "display_data"
    },
    {
     "name": "stdout",
     "output_type": "stream",
     "text": [
      "\n"
     ]
    },
    {
     "data": {
      "application/vnd.jupyter.widget-view+json": {
       "model_id": "9177bacbf869494aac7c1ad50693f60a",
       "version_major": 2,
       "version_minor": 0
      },
      "text/plain": [
       "HBox(children=(FloatProgress(value=0.0, description='missing', max=2.0, style=ProgressStyle(description_width=…"
      ]
     },
     "metadata": {},
     "output_type": "display_data"
    },
    {
     "name": "stdout",
     "output_type": "stream",
     "text": [
      "\n"
     ]
    },
    {
     "data": {
      "application/vnd.jupyter.widget-view+json": {
       "model_id": "066e67df51bd47aebcc497ceacc010be",
       "version_major": 2,
       "version_minor": 0
      },
      "text/plain": [
       "HBox(children=(FloatProgress(value=0.0, description='warnings', max=3.0, style=ProgressStyle(description_width…"
      ]
     },
     "metadata": {},
     "output_type": "display_data"
    },
    {
     "name": "stdout",
     "output_type": "stream",
     "text": [
      "\n"
     ]
    },
    {
     "data": {
      "application/vnd.jupyter.widget-view+json": {
       "model_id": "cdec7699c8ed448ea110a40107860c0f",
       "version_major": 2,
       "version_minor": 0
      },
      "text/plain": [
       "HBox(children=(FloatProgress(value=0.0, description='package', max=1.0, style=ProgressStyle(description_width=…"
      ]
     },
     "metadata": {},
     "output_type": "display_data"
    },
    {
     "name": "stdout",
     "output_type": "stream",
     "text": [
      "\n"
     ]
    },
    {
     "data": {
      "application/vnd.jupyter.widget-view+json": {
       "model_id": "ddca4b8262d345b5a96ec4527edd257c",
       "version_major": 2,
       "version_minor": 0
      },
      "text/plain": [
       "HBox(children=(FloatProgress(value=0.0, description='build report structure', max=1.0, style=ProgressStyle(des…"
      ]
     },
     "metadata": {},
     "output_type": "display_data"
    },
    {
     "name": "stdout",
     "output_type": "stream",
     "text": [
      "\n"
     ]
    }
   ],
   "source": [
    "profile = ProfileReport(train_df, title='Pandas Profiling Report', html={'style':{'full_width':True}})"
   ]
  },
  {
   "cell_type": "code",
   "execution_count": 22,
   "metadata": {},
   "outputs": [
    {
     "data": {
      "application/vnd.jupyter.widget-view+json": {
       "model_id": "73992c1f12fd4625b2d1831bf3545208",
       "version_major": 2,
       "version_minor": 0
      },
      "text/plain": [
       "Tab(children=(Tab(children=(GridBox(children=(VBox(children=(GridspecLayout(children=(HTML(value='Number of va…"
      ]
     },
     "metadata": {},
     "output_type": "display_data"
    },
    {
     "data": {
      "text/html": [
       "Report generated with <a href=\"https://github.com/pandas-profiling/pandas-profiling\">pandas-profiling</a>."
      ],
      "text/plain": [
       "<IPython.core.display.HTML object>"
      ]
     },
     "metadata": {},
     "output_type": "display_data"
    }
   ],
   "source": [
    "profile.to_widgets()"
   ]
  },
  {
   "cell_type": "markdown",
   "metadata": {},
   "source": [
    "No new information could be extracted with pandas profiling."
   ]
  },
  {
   "cell_type": "markdown",
   "metadata": {},
   "source": [
    "## 4. Feature Extraction"
   ]
  },
  {
   "cell_type": "code",
   "execution_count": 23,
   "metadata": {},
   "outputs": [],
   "source": [
    "X_train = train_df['Phrase'].tolist()\n",
    "y_train = train_df['Sentiment'].tolist()\n",
    "\n",
    "X_test = test_df['Phrase'].tolist()\n",
    "y_test = test_df['Sentiment'].tolist()"
   ]
  },
  {
   "cell_type": "code",
   "execution_count": 24,
   "metadata": {},
   "outputs": [
    {
     "name": "stdout",
     "output_type": "stream",
     "text": [
      "Size of training set:  14710\n",
      "Size of testing set: 3678\n"
     ]
    }
   ],
   "source": [
    "print('Size of training set: ', len(X_train))\n",
    "print('Size of testing set:',  len(X_test))"
   ]
  },
  {
   "cell_type": "markdown",
   "metadata": {},
   "source": [
    "### TF-IDF"
   ]
  },
  {
   "cell_type": "code",
   "execution_count": 25,
   "metadata": {},
   "outputs": [],
   "source": [
    "from sklearn.feature_extraction.text import TfidfVectorizer"
   ]
  },
  {
   "cell_type": "code",
   "execution_count": 26,
   "metadata": {},
   "outputs": [
    {
     "data": {
      "text/plain": [
       "TfidfVectorizer(analyzer='word', binary=False, decode_error='strict',\n",
       "                dtype=<class 'numpy.float64'>, encoding='utf-8',\n",
       "                input='content', lowercase=True, max_df=1.0, max_features=None,\n",
       "                min_df=1, ngram_range=(1, 1), norm='l2', preprocessor=None,\n",
       "                smooth_idf=True, stop_words=None, strip_accents=None,\n",
       "                sublinear_tf=False, token_pattern='(?u)\\\\b\\\\w\\\\w+\\\\b',\n",
       "                tokenizer=None, use_idf=True, vocabulary=None)"
      ]
     },
     "execution_count": 26,
     "metadata": {},
     "output_type": "execute_result"
    }
   ],
   "source": [
    "vectorizer = TfidfVectorizer()\n",
    "vectorizer.fit(X_train)"
   ]
  },
  {
   "cell_type": "code",
   "execution_count": 27,
   "metadata": {},
   "outputs": [],
   "source": [
    "X_train_v = vectorizer.transform(X_train)\n",
    "X_test_v = vectorizer.transform(X_test)"
   ]
  },
  {
   "cell_type": "code",
   "execution_count": 28,
   "metadata": {},
   "outputs": [
    {
     "data": {
      "text/plain": [
       "(14710, 7115)"
      ]
     },
     "execution_count": 28,
     "metadata": {},
     "output_type": "execute_result"
    }
   ],
   "source": [
    "X_train_v.shape"
   ]
  },
  {
   "cell_type": "markdown",
   "metadata": {},
   "source": [
    "## Checking if dataset is balanced"
   ]
  },
  {
   "cell_type": "code",
   "execution_count": 29,
   "metadata": {},
   "outputs": [],
   "source": [
    "from collections import Counter"
   ]
  },
  {
   "cell_type": "code",
   "execution_count": 30,
   "metadata": {},
   "outputs": [
    {
     "data": {
      "text/plain": [
       "Counter({2: 1876, 3: 7033, 4: 3649, 0: 988, 1: 1164})"
      ]
     },
     "execution_count": 30,
     "metadata": {},
     "output_type": "execute_result"
    }
   ],
   "source": [
    "Counter(y_train)"
   ]
  },
  {
   "cell_type": "markdown",
   "metadata": {},
   "source": [
    "The dataset is highly imbalanced."
   ]
  },
  {
   "cell_type": "markdown",
   "metadata": {},
   "source": [
    "**SMOTE Oversampling**"
   ]
  },
  {
   "cell_type": "code",
   "execution_count": 31,
   "metadata": {},
   "outputs": [
    {
     "name": "stderr",
     "output_type": "stream",
     "text": [
      "/anaconda3/lib/python3.6/site-packages/sklearn/externals/six.py:31: FutureWarning: The module is deprecated in version 0.21 and will be removed in version 0.23 since we've dropped support for Python 2.7. Please rely on the official version of six (https://pypi.org/project/six/).\n",
      "  \"(https://pypi.org/project/six/).\", FutureWarning)\n",
      "/anaconda3/lib/python3.6/site-packages/sklearn/utils/deprecation.py:144: FutureWarning: The sklearn.neighbors.base module is  deprecated in version 0.22 and will be removed in version 0.24. The corresponding classes / functions should instead be imported from sklearn.neighbors. Anything that cannot be imported from sklearn.neighbors is now part of the private API.\n",
      "  warnings.warn(message, FutureWarning)\n",
      "/anaconda3/lib/python3.6/site-packages/sklearn/utils/deprecation.py:87: FutureWarning: Function safe_indexing is deprecated; safe_indexing is deprecated in version 0.22 and will be removed in version 0.24.\n",
      "  warnings.warn(msg, category=FutureWarning)\n"
     ]
    },
    {
     "data": {
      "text/plain": [
       "Counter({2: 7033, 3: 7033, 4: 7033, 0: 7033, 1: 7033})"
      ]
     },
     "execution_count": 31,
     "metadata": {},
     "output_type": "execute_result"
    }
   ],
   "source": [
    "from imblearn.over_sampling import SMOTE\n",
    "\n",
    "smote = SMOTE(random_state=42)\n",
    "x_smote, y_smote = smote.fit_resample(X_train_v, y_train)\n",
    "Counter(y_smote)"
   ]
  },
  {
   "cell_type": "markdown",
   "metadata": {},
   "source": [
    "**Random Oversampling**"
   ]
  },
  {
   "cell_type": "code",
   "execution_count": 32,
   "metadata": {},
   "outputs": [
    {
     "data": {
      "text/plain": [
       "Counter({2: 7033, 3: 7033, 4: 7033, 0: 7033, 1: 7033})"
      ]
     },
     "execution_count": 32,
     "metadata": {},
     "output_type": "execute_result"
    }
   ],
   "source": [
    "from imblearn.over_sampling import RandomOverSampler\n",
    "\n",
    "over_sampler = RandomOverSampler(random_state=42)\n",
    "x_over, y_over = over_sampler.fit_resample(X_train_v, y_train)\n",
    "Counter(y_over)"
   ]
  },
  {
   "cell_type": "markdown",
   "metadata": {},
   "source": [
    "**Random Undersampling**"
   ]
  },
  {
   "cell_type": "code",
   "execution_count": 33,
   "metadata": {},
   "outputs": [
    {
     "name": "stderr",
     "output_type": "stream",
     "text": [
      "/anaconda3/lib/python3.6/site-packages/sklearn/utils/deprecation.py:87: FutureWarning: Function safe_indexing is deprecated; safe_indexing is deprecated in version 0.22 and will be removed in version 0.24.\n",
      "  warnings.warn(msg, category=FutureWarning)\n"
     ]
    },
    {
     "data": {
      "text/plain": [
       "Counter({0: 988, 1: 988, 2: 988, 3: 988, 4: 988})"
      ]
     },
     "execution_count": 33,
     "metadata": {},
     "output_type": "execute_result"
    }
   ],
   "source": [
    "from imblearn.under_sampling import RandomUnderSampler\n",
    "\n",
    "under_sampler = RandomUnderSampler(random_state=42)\n",
    "x_under, y_under = under_sampler.fit_resample(X_train_v, y_train)\n",
    "Counter(y_under)"
   ]
  },
  {
   "cell_type": "markdown",
   "metadata": {},
   "source": [
    "### Helper function for pickling"
   ]
  },
  {
   "cell_type": "code",
   "execution_count": 34,
   "metadata": {},
   "outputs": [],
   "source": [
    "import pickle\n",
    "from pathlib import Path"
   ]
  },
  {
   "cell_type": "code",
   "execution_count": 35,
   "metadata": {},
   "outputs": [],
   "source": [
    "def pickle_exists(filename):\n",
    "    file = Path('models/' + filename + '.pkl')\n",
    "    if file.is_file():\n",
    "        return True\n",
    "    return False\n",
    "\n",
    "def save_model(model, filename):\n",
    "    pickle.dump(model, open('models/' + filename + '.pkl', 'wb'))\n",
    "    \n",
    "def load_model(filename):\n",
    "    return pickle.load(open('models/' + filename + '.pkl', 'rb'))"
   ]
  },
  {
   "cell_type": "markdown",
   "metadata": {},
   "source": [
    "## 5. Grid Search"
   ]
  },
  {
   "cell_type": "code",
   "execution_count": 36,
   "metadata": {},
   "outputs": [],
   "source": [
    "from sklearn.svm import SVC\n",
    "from sklearn.tree import DecisionTreeClassifier\n",
    "from sklearn.ensemble import RandomForestClassifier, ExtraTreesClassifier, AdaBoostClassifier, GradientBoostingClassifier\n",
    "\n",
    "from sklearn.model_selection import GridSearchCV\n",
    "from sklearn.metrics import make_scorer, f1_score, accuracy_score, classification_report"
   ]
  },
  {
   "cell_type": "markdown",
   "metadata": {},
   "source": [
    "### Helper functions for Grid Search"
   ]
  },
  {
   "cell_type": "code",
   "execution_count": 37,
   "metadata": {},
   "outputs": [],
   "source": [
    "scorer = make_scorer(f1_score, average='macro')\n",
    "\n",
    "def get_f1_score_of_model(model, x_test, y_test):\n",
    "    y_predictions = model.predict(x_test)\n",
    "    return f1_score(y_test, y_predictions, average='macro')\n",
    "    \n",
    "def grid_search_classifier(classifier, x_train, y_train, x_test, y_test, grid_params):\n",
    "    clf = GridSearchCV(classifier(), grid_params, scoring=scorer)\n",
    "    clf.fit(x_train, y_train)\n",
    "    best_model = classifier(**clf.best_params_)\n",
    "    best_model.fit(x_train, y_train)\n",
    "    return best_model, get_f1_score_of_model(best_model, x_test, y_test)"
   ]
  },
  {
   "cell_type": "markdown",
   "metadata": {},
   "source": [
    "#### Listing all classifiers along with the hyperparameters"
   ]
  },
  {
   "cell_type": "code",
   "execution_count": 41,
   "metadata": {},
   "outputs": [],
   "source": [
    "random_state = [42]\n",
    "classifiers = [\n",
    "    (SVC, \n",
    "     {\n",
    "         'kernel':('linear', 'rbf', 'sigmoid'), \n",
    "         'C':(1, 5, 10), \n",
    "         'decision_function_shape':('ovo','ovr'),\n",
    "         'random_state': random_state\n",
    "     },\n",
    "    'svm'),\n",
    "    (DecisionTreeClassifier, \n",
    "     {\n",
    "         'max_depth': (3,5,9),\n",
    "         'min_samples_split': (2,6,10),\n",
    "         'random_state': random_state\n",
    "     },\n",
    "    'decision_tree'),\n",
    "    (RandomForestClassifier, \n",
    "     {\n",
    "         'max_depth': (3,5,9),\n",
    "         'min_samples_split': (2,6,10),\n",
    "         'random_state': random_state\n",
    "     },\n",
    "    'random_forest'),\n",
    "    (ExtraTreesClassifier, \n",
    "     {\n",
    "         'max_depth': (3,5,9),\n",
    "         'min_samples_split': (2,6,10),\n",
    "         'random_state': random_state\n",
    "     },\n",
    "     'extra_trees'\n",
    "    ),\n",
    "    (AdaBoostClassifier, \n",
    "     {\n",
    "         'n_estimators': (5,10,20),\n",
    "         'random_state': random_state\n",
    "     },\n",
    "     'ada_boost'),\n",
    "    (GradientBoostingClassifier, \n",
    "     {\n",
    "         'n_estimators': (5,10,20),\n",
    "         'min_samples_split': (2,6,10),\n",
    "         'random_state': random_state\n",
    "     },\n",
    "    'gradient_boosting')\n",
    "]"
   ]
  },
  {
   "cell_type": "markdown",
   "metadata": {},
   "source": [
    "### Model Building and Accuracy Calculation"
   ]
  },
  {
   "cell_type": "markdown",
   "metadata": {},
   "source": [
    "A check will be made to see if the pickle for a given model already exists. If so, the model will be loaded from the file, else a new model will be built using the grid params and saved to the file."
   ]
  },
  {
   "cell_type": "code",
   "execution_count": 45,
   "metadata": {},
   "outputs": [
    {
     "name": "stdout",
     "output_type": "stream",
     "text": [
      "\n",
      "Pickle already exists for SVC with default config. Loading from file...\n",
      "SVC(C=5, break_ties=False, cache_size=200, class_weight=None, coef0=0.0,\n",
      "    decision_function_shape='ovo', degree=3, gamma='scale', kernel='rbf',\n",
      "    max_iter=-1, probability=False, random_state=42, shrinking=True, tol=0.001,\n",
      "    verbose=False)\n",
      "\n",
      "F1 Score for SVC with default config: \n",
      "0.6792077809318241\n",
      "\n",
      "Pickle already exists for SVC with smote_over_sampling config. Loading from file...\n",
      "SVC(C=10, break_ties=False, cache_size=200, class_weight=None, coef0=0.0,\n",
      "    decision_function_shape='ovo', degree=3, gamma='scale', kernel='rbf',\n",
      "    max_iter=-1, probability=False, random_state=42, shrinking=True, tol=0.001,\n",
      "    verbose=False)\n",
      "\n",
      "F1 Score for SVC with smote_over_sampling config: \n",
      "0.6753729325333963\n",
      "\n",
      "Pickle already exists for SVC with random_over_sampling config. Loading from file...\n",
      "SVC(C=10, break_ties=False, cache_size=200, class_weight=None, coef0=0.0,\n",
      "    decision_function_shape='ovo', degree=3, gamma='scale', kernel='rbf',\n",
      "    max_iter=-1, probability=False, random_state=42, shrinking=True, tol=0.001,\n",
      "    verbose=False)\n",
      "\n",
      "F1 Score for SVC with random_over_sampling config: \n",
      "0.6721704032389526\n",
      "\n",
      "No pickle found for SVC with random_under_sampling config. Training model and saving to file...\n",
      "SVC(C=5, break_ties=False, cache_size=200, class_weight=None, coef0=0.0,\n",
      "    decision_function_shape='ovo', degree=3, gamma='scale', kernel='rbf',\n",
      "    max_iter=-1, probability=False, random_state=42, shrinking=True, tol=0.001,\n",
      "    verbose=False)\n",
      "\n",
      "F1 Score for SVC with random_under_sampling config: \n",
      "0.5686501503943238\n",
      "\n",
      "Pickle already exists for DecisionTreeClassifier with default config. Loading from file...\n",
      "DecisionTreeClassifier(ccp_alpha=0.0, class_weight=None, criterion='gini',\n",
      "                       max_depth=9, max_features=None, max_leaf_nodes=None,\n",
      "                       min_impurity_decrease=0.0, min_impurity_split=None,\n",
      "                       min_samples_leaf=1, min_samples_split=10,\n",
      "                       min_weight_fraction_leaf=0.0, presort='deprecated',\n",
      "                       random_state=42, splitter='best')\n",
      "\n",
      "F1 Score for DecisionTreeClassifier with default config: \n",
      "0.20620423193012694\n",
      "\n",
      "Pickle already exists for DecisionTreeClassifier with smote_over_sampling config. Loading from file...\n",
      "DecisionTreeClassifier(ccp_alpha=0.0, class_weight=None, criterion='gini',\n",
      "                       max_depth=9, max_features=None, max_leaf_nodes=None,\n",
      "                       min_impurity_decrease=0.0, min_impurity_split=None,\n",
      "                       min_samples_leaf=1, min_samples_split=6,\n",
      "                       min_weight_fraction_leaf=0.0, presort='deprecated',\n",
      "                       random_state=42, splitter='best')\n",
      "\n",
      "F1 Score for DecisionTreeClassifier with smote_over_sampling config: \n",
      "0.22688311170586073\n",
      "\n",
      "Pickle already exists for DecisionTreeClassifier with random_over_sampling config. Loading from file...\n",
      "DecisionTreeClassifier(ccp_alpha=0.0, class_weight=None, criterion='gini',\n",
      "                       max_depth=9, max_features=None, max_leaf_nodes=None,\n",
      "                       min_impurity_decrease=0.0, min_impurity_split=None,\n",
      "                       min_samples_leaf=1, min_samples_split=2,\n",
      "                       min_weight_fraction_leaf=0.0, presort='deprecated',\n",
      "                       random_state=42, splitter='best')\n",
      "\n",
      "F1 Score for DecisionTreeClassifier with random_over_sampling config: \n",
      "0.22195867415117818\n",
      "\n",
      "Pickle already exists for DecisionTreeClassifier with random_under_sampling config. Loading from file...\n",
      "DecisionTreeClassifier(ccp_alpha=0.0, class_weight=None, criterion='gini',\n",
      "                       max_depth=9, max_features=None, max_leaf_nodes=None,\n",
      "                       min_impurity_decrease=0.0, min_impurity_split=None,\n",
      "                       min_samples_leaf=1, min_samples_split=10,\n",
      "                       min_weight_fraction_leaf=0.0, presort='deprecated',\n",
      "                       random_state=42, splitter='best')\n",
      "\n",
      "F1 Score for DecisionTreeClassifier with random_under_sampling config: \n",
      "0.22848370844553317\n",
      "\n",
      "Pickle already exists for RandomForestClassifier with default config. Loading from file...\n",
      "RandomForestClassifier(bootstrap=True, ccp_alpha=0.0, class_weight=None,\n",
      "                       criterion='gini', max_depth=9, max_features='auto',\n",
      "                       max_leaf_nodes=None, max_samples=None,\n",
      "                       min_impurity_decrease=0.0, min_impurity_split=None,\n",
      "                       min_samples_leaf=1, min_samples_split=10,\n",
      "                       min_weight_fraction_leaf=0.0, n_estimators=100,\n",
      "                       n_jobs=None, oob_score=False, random_state=42, verbose=0,\n",
      "                       warm_start=False)\n",
      "\n",
      "F1 Score for RandomForestClassifier with default config: \n",
      "0.13334649689533196\n",
      "\n",
      "Pickle already exists for RandomForestClassifier with smote_over_sampling config. Loading from file...\n",
      "RandomForestClassifier(bootstrap=True, ccp_alpha=0.0, class_weight=None,\n",
      "                       criterion='gini', max_depth=9, max_features='auto',\n",
      "                       max_leaf_nodes=None, max_samples=None,\n",
      "                       min_impurity_decrease=0.0, min_impurity_split=None,\n",
      "                       min_samples_leaf=1, min_samples_split=2,\n",
      "                       min_weight_fraction_leaf=0.0, n_estimators=100,\n",
      "                       n_jobs=None, oob_score=False, random_state=42, verbose=0,\n",
      "                       warm_start=False)\n",
      "\n",
      "F1 Score for RandomForestClassifier with smote_over_sampling config: \n",
      "0.285089928306133\n",
      "\n",
      "Pickle already exists for RandomForestClassifier with random_over_sampling config. Loading from file...\n",
      "RandomForestClassifier(bootstrap=True, ccp_alpha=0.0, class_weight=None,\n",
      "                       criterion='gini', max_depth=9, max_features='auto',\n",
      "                       max_leaf_nodes=None, max_samples=None,\n",
      "                       min_impurity_decrease=0.0, min_impurity_split=None,\n",
      "                       min_samples_leaf=1, min_samples_split=2,\n",
      "                       min_weight_fraction_leaf=0.0, n_estimators=100,\n",
      "                       n_jobs=None, oob_score=False, random_state=42, verbose=0,\n",
      "                       warm_start=False)\n",
      "\n",
      "F1 Score for RandomForestClassifier with random_over_sampling config: \n",
      "0.34430900836905937\n",
      "\n",
      "Pickle already exists for RandomForestClassifier with random_under_sampling config. Loading from file...\n",
      "RandomForestClassifier(bootstrap=True, ccp_alpha=0.0, class_weight=None,\n",
      "                       criterion='gini', max_depth=9, max_features='auto',\n",
      "                       max_leaf_nodes=None, max_samples=None,\n",
      "                       min_impurity_decrease=0.0, min_impurity_split=None,\n",
      "                       min_samples_leaf=1, min_samples_split=2,\n",
      "                       min_weight_fraction_leaf=0.0, n_estimators=100,\n",
      "                       n_jobs=None, oob_score=False, random_state=42, verbose=0,\n",
      "                       warm_start=False)\n",
      "\n",
      "F1 Score for RandomForestClassifier with random_under_sampling config: \n",
      "0.33365126701460934\n",
      "\n",
      "Pickle already exists for ExtraTreesClassifier with default config. Loading from file...\n",
      "ExtraTreesClassifier(bootstrap=False, ccp_alpha=0.0, class_weight=None,\n",
      "                     criterion='gini', max_depth=3, max_features='auto',\n",
      "                     max_leaf_nodes=None, max_samples=None,\n",
      "                     min_impurity_decrease=0.0, min_impurity_split=None,\n",
      "                     min_samples_leaf=1, min_samples_split=2,\n",
      "                     min_weight_fraction_leaf=0.0, n_estimators=100,\n",
      "                     n_jobs=None, oob_score=False, random_state=42, verbose=0,\n",
      "                     warm_start=False)\n",
      "\n",
      "F1 Score for ExtraTreesClassifier with default config: \n",
      "0.1294096008828398\n",
      "\n",
      "Pickle already exists for ExtraTreesClassifier with smote_over_sampling config. Loading from file...\n",
      "ExtraTreesClassifier(bootstrap=False, ccp_alpha=0.0, class_weight=None,\n",
      "                     criterion='gini', max_depth=9, max_features='auto',\n",
      "                     max_leaf_nodes=None, max_samples=None,\n",
      "                     min_impurity_decrease=0.0, min_impurity_split=None,\n",
      "                     min_samples_leaf=1, min_samples_split=10,\n",
      "                     min_weight_fraction_leaf=0.0, n_estimators=100,\n",
      "                     n_jobs=None, oob_score=False, random_state=42, verbose=0,\n",
      "                     warm_start=False)\n",
      "\n",
      "F1 Score for ExtraTreesClassifier with smote_over_sampling config: \n",
      "0.3690733282542328\n",
      "\n",
      "Pickle already exists for ExtraTreesClassifier with random_over_sampling config. Loading from file...\n",
      "ExtraTreesClassifier(bootstrap=False, ccp_alpha=0.0, class_weight=None,\n",
      "                     criterion='gini', max_depth=9, max_features='auto',\n",
      "                     max_leaf_nodes=None, max_samples=None,\n",
      "                     min_impurity_decrease=0.0, min_impurity_split=None,\n",
      "                     min_samples_leaf=1, min_samples_split=2,\n",
      "                     min_weight_fraction_leaf=0.0, n_estimators=100,\n",
      "                     n_jobs=None, oob_score=False, random_state=42, verbose=0,\n",
      "                     warm_start=False)\n",
      "\n",
      "F1 Score for ExtraTreesClassifier with random_over_sampling config: \n",
      "0.3922907251713367\n",
      "\n",
      "Pickle already exists for ExtraTreesClassifier with random_under_sampling config. Loading from file...\n"
     ]
    },
    {
     "name": "stdout",
     "output_type": "stream",
     "text": [
      "ExtraTreesClassifier(bootstrap=False, ccp_alpha=0.0, class_weight=None,\n",
      "                     criterion='gini', max_depth=9, max_features='auto',\n",
      "                     max_leaf_nodes=None, max_samples=None,\n",
      "                     min_impurity_decrease=0.0, min_impurity_split=None,\n",
      "                     min_samples_leaf=1, min_samples_split=6,\n",
      "                     min_weight_fraction_leaf=0.0, n_estimators=100,\n",
      "                     n_jobs=None, oob_score=False, random_state=42, verbose=0,\n",
      "                     warm_start=False)\n",
      "\n",
      "F1 Score for ExtraTreesClassifier with random_under_sampling config: \n",
      "0.39166949207210183\n",
      "\n",
      "Pickle already exists for AdaBoostClassifier with default config. Loading from file...\n",
      "AdaBoostClassifier(algorithm='SAMME.R', base_estimator=None, learning_rate=1.0,\n",
      "                   n_estimators=20, random_state=42)\n",
      "\n",
      "F1 Score for AdaBoostClassifier with default config: \n",
      "0.23405893909183542\n",
      "\n",
      "Pickle already exists for AdaBoostClassifier with smote_over_sampling config. Loading from file...\n",
      "AdaBoostClassifier(algorithm='SAMME.R', base_estimator=None, learning_rate=1.0,\n",
      "                   n_estimators=20, random_state=42)\n",
      "\n",
      "F1 Score for AdaBoostClassifier with smote_over_sampling config: \n",
      "0.21590024446064754\n",
      "\n",
      "Pickle already exists for AdaBoostClassifier with random_over_sampling config. Loading from file...\n",
      "AdaBoostClassifier(algorithm='SAMME.R', base_estimator=None, learning_rate=1.0,\n",
      "                   n_estimators=20, random_state=42)\n",
      "\n",
      "F1 Score for AdaBoostClassifier with random_over_sampling config: \n",
      "0.21955817694738008\n",
      "\n",
      "Pickle already exists for AdaBoostClassifier with random_under_sampling config. Loading from file...\n",
      "AdaBoostClassifier(algorithm='SAMME.R', base_estimator=None, learning_rate=1.0,\n",
      "                   n_estimators=20, random_state=42)\n",
      "\n",
      "F1 Score for AdaBoostClassifier with random_under_sampling config: \n",
      "0.22300164928703983\n",
      "\n",
      "Pickle already exists for GradientBoostingClassifier with default config. Loading from file...\n",
      "GradientBoostingClassifier(ccp_alpha=0.0, criterion='friedman_mse', init=None,\n",
      "                           learning_rate=0.1, loss='deviance', max_depth=3,\n",
      "                           max_features=None, max_leaf_nodes=None,\n",
      "                           min_impurity_decrease=0.0, min_impurity_split=None,\n",
      "                           min_samples_leaf=1, min_samples_split=10,\n",
      "                           min_weight_fraction_leaf=0.0, n_estimators=20,\n",
      "                           n_iter_no_change=None, presort='deprecated',\n",
      "                           random_state=42, subsample=1.0, tol=0.0001,\n",
      "                           validation_fraction=0.1, verbose=0,\n",
      "                           warm_start=False)\n",
      "\n",
      "F1 Score for GradientBoostingClassifier with default config: \n",
      "0.22028126123699576\n",
      "\n",
      "Pickle already exists for GradientBoostingClassifier with smote_over_sampling config. Loading from file...\n",
      "GradientBoostingClassifier(ccp_alpha=0.0, criterion='friedman_mse', init=None,\n",
      "                           learning_rate=0.1, loss='deviance', max_depth=3,\n",
      "                           max_features=None, max_leaf_nodes=None,\n",
      "                           min_impurity_decrease=0.0, min_impurity_split=None,\n",
      "                           min_samples_leaf=1, min_samples_split=6,\n",
      "                           min_weight_fraction_leaf=0.0, n_estimators=20,\n",
      "                           n_iter_no_change=None, presort='deprecated',\n",
      "                           random_state=42, subsample=1.0, tol=0.0001,\n",
      "                           validation_fraction=0.1, verbose=0,\n",
      "                           warm_start=False)\n",
      "\n",
      "F1 Score for GradientBoostingClassifier with smote_over_sampling config: \n",
      "0.31977601950417656\n",
      "\n",
      "Pickle already exists for GradientBoostingClassifier with random_over_sampling config. Loading from file...\n",
      "GradientBoostingClassifier(ccp_alpha=0.0, criterion='friedman_mse', init=None,\n",
      "                           learning_rate=0.1, loss='deviance', max_depth=3,\n",
      "                           max_features=None, max_leaf_nodes=None,\n",
      "                           min_impurity_decrease=0.0, min_impurity_split=None,\n",
      "                           min_samples_leaf=1, min_samples_split=10,\n",
      "                           min_weight_fraction_leaf=0.0, n_estimators=20,\n",
      "                           n_iter_no_change=None, presort='deprecated',\n",
      "                           random_state=42, subsample=1.0, tol=0.0001,\n",
      "                           validation_fraction=0.1, verbose=0,\n",
      "                           warm_start=False)\n",
      "\n",
      "F1 Score for GradientBoostingClassifier with random_over_sampling config: \n",
      "0.30458722795153736\n",
      "\n",
      "Pickle already exists for GradientBoostingClassifier with random_under_sampling config. Loading from file...\n",
      "GradientBoostingClassifier(ccp_alpha=0.0, criterion='friedman_mse', init=None,\n",
      "                           learning_rate=0.1, loss='deviance', max_depth=3,\n",
      "                           max_features=None, max_leaf_nodes=None,\n",
      "                           min_impurity_decrease=0.0, min_impurity_split=None,\n",
      "                           min_samples_leaf=1, min_samples_split=2,\n",
      "                           min_weight_fraction_leaf=0.0, n_estimators=20,\n",
      "                           n_iter_no_change=None, presort='deprecated',\n",
      "                           random_state=42, subsample=1.0, tol=0.0001,\n",
      "                           validation_fraction=0.1, verbose=0,\n",
      "                           warm_start=False)\n",
      "\n",
      "F1 Score for GradientBoostingClassifier with random_under_sampling config: \n",
      "0.2943405522851315\n"
     ]
    },
    {
     "data": {
      "text/html": [
       "<div>\n",
       "<style scoped>\n",
       "    .dataframe tbody tr th:only-of-type {\n",
       "        vertical-align: middle;\n",
       "    }\n",
       "\n",
       "    .dataframe tbody tr th {\n",
       "        vertical-align: top;\n",
       "    }\n",
       "\n",
       "    .dataframe thead th {\n",
       "        text-align: right;\n",
       "    }\n",
       "</style>\n",
       "<table border=\"1\" class=\"dataframe\">\n",
       "  <thead>\n",
       "    <tr style=\"text-align: right;\">\n",
       "      <th></th>\n",
       "      <th>Classifier</th>\n",
       "      <th>Sampling</th>\n",
       "      <th>F1 Score</th>\n",
       "    </tr>\n",
       "  </thead>\n",
       "  <tbody>\n",
       "    <tr>\n",
       "      <th>0</th>\n",
       "      <td>SVC</td>\n",
       "      <td>default</td>\n",
       "      <td>0.679208</td>\n",
       "    </tr>\n",
       "    <tr>\n",
       "      <th>1</th>\n",
       "      <td>SVC</td>\n",
       "      <td>smote_over_sampling</td>\n",
       "      <td>0.675373</td>\n",
       "    </tr>\n",
       "    <tr>\n",
       "      <th>2</th>\n",
       "      <td>SVC</td>\n",
       "      <td>random_over_sampling</td>\n",
       "      <td>0.672170</td>\n",
       "    </tr>\n",
       "    <tr>\n",
       "      <th>3</th>\n",
       "      <td>SVC</td>\n",
       "      <td>random_under_sampling</td>\n",
       "      <td>0.568650</td>\n",
       "    </tr>\n",
       "    <tr>\n",
       "      <th>4</th>\n",
       "      <td>DecisionTreeClassifier</td>\n",
       "      <td>default</td>\n",
       "      <td>0.206204</td>\n",
       "    </tr>\n",
       "    <tr>\n",
       "      <th>5</th>\n",
       "      <td>DecisionTreeClassifier</td>\n",
       "      <td>smote_over_sampling</td>\n",
       "      <td>0.226883</td>\n",
       "    </tr>\n",
       "    <tr>\n",
       "      <th>6</th>\n",
       "      <td>DecisionTreeClassifier</td>\n",
       "      <td>random_over_sampling</td>\n",
       "      <td>0.221959</td>\n",
       "    </tr>\n",
       "    <tr>\n",
       "      <th>7</th>\n",
       "      <td>DecisionTreeClassifier</td>\n",
       "      <td>random_under_sampling</td>\n",
       "      <td>0.228484</td>\n",
       "    </tr>\n",
       "    <tr>\n",
       "      <th>8</th>\n",
       "      <td>RandomForestClassifier</td>\n",
       "      <td>default</td>\n",
       "      <td>0.133346</td>\n",
       "    </tr>\n",
       "    <tr>\n",
       "      <th>9</th>\n",
       "      <td>RandomForestClassifier</td>\n",
       "      <td>smote_over_sampling</td>\n",
       "      <td>0.285090</td>\n",
       "    </tr>\n",
       "    <tr>\n",
       "      <th>10</th>\n",
       "      <td>RandomForestClassifier</td>\n",
       "      <td>random_over_sampling</td>\n",
       "      <td>0.344309</td>\n",
       "    </tr>\n",
       "    <tr>\n",
       "      <th>11</th>\n",
       "      <td>RandomForestClassifier</td>\n",
       "      <td>random_under_sampling</td>\n",
       "      <td>0.333651</td>\n",
       "    </tr>\n",
       "    <tr>\n",
       "      <th>12</th>\n",
       "      <td>ExtraTreesClassifier</td>\n",
       "      <td>default</td>\n",
       "      <td>0.129410</td>\n",
       "    </tr>\n",
       "    <tr>\n",
       "      <th>13</th>\n",
       "      <td>ExtraTreesClassifier</td>\n",
       "      <td>smote_over_sampling</td>\n",
       "      <td>0.369073</td>\n",
       "    </tr>\n",
       "    <tr>\n",
       "      <th>14</th>\n",
       "      <td>ExtraTreesClassifier</td>\n",
       "      <td>random_over_sampling</td>\n",
       "      <td>0.392291</td>\n",
       "    </tr>\n",
       "    <tr>\n",
       "      <th>15</th>\n",
       "      <td>ExtraTreesClassifier</td>\n",
       "      <td>random_under_sampling</td>\n",
       "      <td>0.391669</td>\n",
       "    </tr>\n",
       "    <tr>\n",
       "      <th>16</th>\n",
       "      <td>AdaBoostClassifier</td>\n",
       "      <td>default</td>\n",
       "      <td>0.234059</td>\n",
       "    </tr>\n",
       "    <tr>\n",
       "      <th>17</th>\n",
       "      <td>AdaBoostClassifier</td>\n",
       "      <td>smote_over_sampling</td>\n",
       "      <td>0.215900</td>\n",
       "    </tr>\n",
       "    <tr>\n",
       "      <th>18</th>\n",
       "      <td>AdaBoostClassifier</td>\n",
       "      <td>random_over_sampling</td>\n",
       "      <td>0.219558</td>\n",
       "    </tr>\n",
       "    <tr>\n",
       "      <th>19</th>\n",
       "      <td>AdaBoostClassifier</td>\n",
       "      <td>random_under_sampling</td>\n",
       "      <td>0.223002</td>\n",
       "    </tr>\n",
       "    <tr>\n",
       "      <th>20</th>\n",
       "      <td>GradientBoostingClassifier</td>\n",
       "      <td>default</td>\n",
       "      <td>0.220281</td>\n",
       "    </tr>\n",
       "    <tr>\n",
       "      <th>21</th>\n",
       "      <td>GradientBoostingClassifier</td>\n",
       "      <td>smote_over_sampling</td>\n",
       "      <td>0.319776</td>\n",
       "    </tr>\n",
       "    <tr>\n",
       "      <th>22</th>\n",
       "      <td>GradientBoostingClassifier</td>\n",
       "      <td>random_over_sampling</td>\n",
       "      <td>0.304587</td>\n",
       "    </tr>\n",
       "    <tr>\n",
       "      <th>23</th>\n",
       "      <td>GradientBoostingClassifier</td>\n",
       "      <td>random_under_sampling</td>\n",
       "      <td>0.294341</td>\n",
       "    </tr>\n",
       "  </tbody>\n",
       "</table>\n",
       "</div>"
      ],
      "text/plain": [
       "                    Classifier               Sampling  F1 Score\n",
       "0                          SVC                default  0.679208\n",
       "1                          SVC    smote_over_sampling  0.675373\n",
       "2                          SVC   random_over_sampling  0.672170\n",
       "3                          SVC  random_under_sampling  0.568650\n",
       "4       DecisionTreeClassifier                default  0.206204\n",
       "5       DecisionTreeClassifier    smote_over_sampling  0.226883\n",
       "6       DecisionTreeClassifier   random_over_sampling  0.221959\n",
       "7       DecisionTreeClassifier  random_under_sampling  0.228484\n",
       "8       RandomForestClassifier                default  0.133346\n",
       "9       RandomForestClassifier    smote_over_sampling  0.285090\n",
       "10      RandomForestClassifier   random_over_sampling  0.344309\n",
       "11      RandomForestClassifier  random_under_sampling  0.333651\n",
       "12        ExtraTreesClassifier                default  0.129410\n",
       "13        ExtraTreesClassifier    smote_over_sampling  0.369073\n",
       "14        ExtraTreesClassifier   random_over_sampling  0.392291\n",
       "15        ExtraTreesClassifier  random_under_sampling  0.391669\n",
       "16          AdaBoostClassifier                default  0.234059\n",
       "17          AdaBoostClassifier    smote_over_sampling  0.215900\n",
       "18          AdaBoostClassifier   random_over_sampling  0.219558\n",
       "19          AdaBoostClassifier  random_under_sampling  0.223002\n",
       "20  GradientBoostingClassifier                default  0.220281\n",
       "21  GradientBoostingClassifier    smote_over_sampling  0.319776\n",
       "22  GradientBoostingClassifier   random_over_sampling  0.304587\n",
       "23  GradientBoostingClassifier  random_under_sampling  0.294341"
      ]
     },
     "execution_count": 45,
     "metadata": {},
     "output_type": "execute_result"
    }
   ],
   "source": [
    "summary = []\n",
    "\n",
    "samplings = ['default', 'smote_over_sampling', 'random_over_sampling', 'random_under_sampling']\n",
    "xtrains = [X_train_v, x_smote, x_over, x_under]\n",
    "ytrains = [y_train, y_smote, y_over, y_under]\n",
    "\n",
    "for classifier, grid_params, filename in classifiers:\n",
    "    for index, sampling in enumerate(samplings):\n",
    "        filename_with_sampling = filename + '_' + sampling\n",
    "        if pickle_exists(filename_with_sampling):\n",
    "            print('\\nPickle already exists for ' + classifier.__name__ + ' with ' + sampling + ' config. Loading from file...')\n",
    "            model = load_model(filename_with_sampling)\n",
    "            score = get_f1_score_of_model(model, X_test_v, y_test)\n",
    "        else:\n",
    "            print('\\nNo pickle found for ' + classifier.__name__ + ' with ' + sampling + ' config. Training model and saving to file...')\n",
    "            model, score = grid_search_classifier(classifier, xtrains[index], ytrains[index], X_test_v, y_test, grid_params)\n",
    "            save_model(model, filename_with_sampling)\n",
    "        print(model)\n",
    "        print('\\nF1 Score for ' + classifier.__name__ + ' with ' + sampling + ' config: ')\n",
    "        print(score)\n",
    "        summary.append({'Classifier': classifier.__name__, 'Sampling': sampling, 'F1 Score': score})\n",
    "    \n",
    "pd.DataFrame(summary)"
   ]
  },
  {
   "cell_type": "markdown",
   "metadata": {},
   "source": [
    "Classifier|Default|Over Sampling with SMOTE|Random Over Sampling|Random Under Sampling|Best\n",
    "----------|-------|------------------------|--------------------|---------------------|----\n",
    "SVM|<strong>F1Score</strong><br>0.679208<br><br><strong>Best Params</strong><br>kernel=rbf<br>C=5<br>decision_function_shape=ovo|<strong>F1Score</strong><br>0.675373<br><br><strong>Best Params</strong><br>kernel=rbf<br>C=10<br>decision_function_shape=ovo|<strong>F1Score</strong><br>0.672170<br><br><strong>Best Params</strong><br>kernel=rbf<br>C=10<br>decision_function_shape=ovo|<strong>F1Score</strong><br>0.568650<br><br><strong>Best Params</strong><br>kernel=rbf<br>C=5<br>decision_function_shape=ovo|Default\n",
    "DecisionTree|<strong>F1Score</strong><br>0.206204<br><br><strong>Best Params</strong><br>max_depth=9<br>min_samples_split=10|<strong>F1Score</strong><br>0.226883<br><br><strong>Best Params</strong><br>max_depth=9<br>min_samples_split=6|<strong>F1Score</strong><br>0.221959<br><br><strong>Best Params</strong><br>max_depth=9<br>min_samples_split=2|<strong>F1Score</strong><br>0.228484<br><br><strong>Best Params</strong><br>max_depth=9<br>min_samples_split=10|Random Under Sampling\n",
    "RandomForest|<strong>F1Score</strong><br>0.133346<br><br><strong>Best Params</strong><br>max_depth=9<br>min_samples_split=10|<strong>F1Score</strong><br>0.285090<br><br><strong>Best Params</strong><br>max_depth=9<br>min_samples_split=2|<strong>F1Score</strong><br>0.344309<br><br><strong>Best Params</strong><br>max_depth=9<br>min_samples_split=2|<strong>F1Score</strong><br>0.333651<br><br><strong>Best Params</strong><br>max_depth=9<br>min_samples_split=2|Random Over Sampling\n",
    "ExtraTrees|<strong>F1Score</strong><br>0.129410<br><br><strong>Best Params</strong><br>max_depth=3<br>min_samples_split=2|<strong>F1Score</strong><br>0.369073<br><br><strong>Best Params</strong><br>max_depth=9<br>min_samples_split=10|<strong>F1Score</strong><br>0.392291<br><br><strong>Best Params</strong><br>max_depth=9<br>min_samples_split=2|<strong>F1 Score</strong><br>0.391669<br><br><strong>Best Params</strong><br>max_depth=9<br>min_samples_split=6|Random Over Sampling\n",
    "AdaBoost|<strong>F1Score</strong><br>0.234059<br><br><strong>Best Params</strong><br>n_estimators=20|<strong>F1Score</strong><br>0.215900<br><br><strong>Best Params</strong><br>n_estimators=20|<strong>F1Score</strong><br>0.219558<br><br><strong>Best Params</strong><br>n_estimators=20|<strong>F1Score</strong><br>0.223002<br><br><strong>Best Params</strong><br>n_estimators=20|Default\n",
    "GradientBoosting|<strong>F1Score</strong><br>0.220281<br><br><strong>Best Params</strong><br>n_estimators=20<br>min_samples_split=10|<strong>F1 Score</strong><br>0.319776<br><br><strong>Best Params</strong><br>n_estimators=20<br>min_samples_split=6|<strong>F1 Score</strong><br>0.304587<br><br><strong>Best Params</strong><br>n_estimators=20<br>min_samples_split=10|<strong>F1 Score</strong><br>0.294341<br><br>n_estimators=20<br>min_samples_split=2|SMOTE Over Sampling\n",
    "Best|SVM|SVM|SVM|SVM|SVM without Sampling"
   ]
  },
  {
   "cell_type": "markdown",
   "metadata": {},
   "source": [
    "The best f1 score achieved was *0.679208* on **SVM**. The hyperparameters used here were C=5, decision_function_shape=ovo and kernel=rbf."
   ]
  }
 ],
 "metadata": {
  "kernelspec": {
   "display_name": "Python 3",
   "language": "python",
   "name": "python3"
  },
  "language_info": {
   "codemirror_mode": {
    "name": "ipython",
    "version": 3
   },
   "file_extension": ".py",
   "mimetype": "text/x-python",
   "name": "python",
   "nbconvert_exporter": "python",
   "pygments_lexer": "ipython3",
   "version": "3.6.10"
  }
 },
 "nbformat": 4,
 "nbformat_minor": 4
}
